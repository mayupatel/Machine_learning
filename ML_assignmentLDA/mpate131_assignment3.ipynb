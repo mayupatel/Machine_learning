{
 "cells": [
  {
   "cell_type": "markdown",
   "metadata": {},
   "source": [
    "# Assignment on LDA"
   ]
  },
  {
   "cell_type": "markdown",
   "metadata": {},
   "source": [
    "-Importing modules:"
   ]
  },
  {
   "cell_type": "code",
   "execution_count": 1,
   "metadata": {},
   "outputs": [],
   "source": [
    "#Importing all the required modules for this task/assignment\n",
    "\n",
    "import pandas as pd \n",
    "import numpy as np\n",
    "import matplotlib.pyplot as plt\n",
    "\n",
    "# from numpy import linear algebra\n",
    "from numpy import linalg as LA\n",
    "\n",
    "#load the iris data from sklearn\n",
    "from sklearn.datasets import load_iris\n",
    "\n",
    "#load the LDA from sklearn\n",
    "from sklearn.discriminant_analysis import LinearDiscriminantAnalysis as LDA"
   ]
  },
  {
   "cell_type": "markdown",
   "metadata": {},
   "source": [
    "# 1. Implement LDA (40 points)"
   ]
  },
  {
   "cell_type": "markdown",
   "metadata": {},
   "source": [
    "Implement your own class to carry out two-class LDA. Use the iris dataset to test and compare your results with LDA in sklearn."
   ]
  },
  {
   "cell_type": "markdown",
   "metadata": {},
   "source": [
    "- Loading Iris data:"
   ]
  },
  {
   "cell_type": "code",
   "execution_count": 2,
   "metadata": {},
   "outputs": [],
   "source": [
    "# loading the dataset Iris from sklearn\n",
    "iris_data = load_iris()\n",
    "\n",
    "# sorting the data and target from the iris data\n",
    "#values of the variables/features\n",
    "iris_variables = iris_data.data\n",
    "\n",
    "#labels as target\n",
    "iris_label = iris_data.target\n",
    "\n",
    "#getting the target names\n",
    "target_names = iris_data.target_names\n",
    "\n",
    "#In the below code, dataset is divided into three groups as there are 3 targets with their respective variables/features\n",
    "\n",
    "#For setosa and versicolor\n",
    "setosa_versicolor = iris_data.data[0:100,0:4]\n",
    "setosa_versicolor_targets = iris_data.target[0:100]\n",
    "\n",
    "#For versicolor and virginica\n",
    "versicolor_virginica = iris_data.data[50:150,0:4]\n",
    "versicolor_virginica_targets = iris_data.target[50:150]\n",
    "\n",
    "#For setosa and virginica\n",
    "setosa_virginica = np.concatenate((iris_data.data[0:50,0:4], iris_data.data[100:150,0:4]), axis=0)\n",
    "setosa_virginica_targets = np.concatenate((iris_data.target[0:50], iris_data.target[100:150]), axis=0)\n"
   ]
  },
  {
   "cell_type": "markdown",
   "metadata": {},
   "source": [
    "- Writing a class for LDA:"
   ]
  },
  {
   "cell_type": "code",
   "execution_count": 3,
   "metadata": {},
   "outputs": [],
   "source": [
    "#Building a class for two-class LDA:\n",
    "class LDA_analysis:\n",
    "    \n",
    "    #constructor which takes number of components.\n",
    "    def __init__(self, n_components):\n",
    "        \n",
    "        self.n_components = n_components\n",
    "        \n",
    "        #In this variable, we store eigenvectors called as 'W'\n",
    "        self.linear_discriminants = None\n",
    "        \n",
    "    \n",
    "    #A method/function is built within the class which takes in dataset variables/features and labels/target\n",
    "    def fit(self,variables, labels):\n",
    "        \n",
    "        #taking the number of features from the variables\n",
    "        n_features = np.shape(variables)[1] \n",
    "        \n",
    "        #This is to show the unique labels \n",
    "        class_labels = np.unique(labels) \n",
    "       \n",
    "        \n",
    "        #Working on within class scatter and between class scatter\n",
    "        #calculating the mean for all the columns\n",
    "        mean_overall = np.mean(variables, axis=0)\n",
    "        \n",
    "        S_Within = np.zeros((n_features,n_features)) # 4 X 4\n",
    "        S_Between = np.zeros((n_features,n_features)) # 4 X 4  for iris data\n",
    "        \n",
    "        #for loop the class labels/target\n",
    "        for c in class_labels:\n",
    "            X_c = variables[labels==c]\n",
    "            \n",
    "            #Calculate the mean of X_c\n",
    "            mean_c = np.mean(X_c, axis = 0)\n",
    "            \n",
    "            ##substract the each individual mean value to the dataset mean value and do a dot product \n",
    "            #calculating within class scatter\n",
    "            S_Within += (X_c - mean_c).T.dot((X_c - mean_c))\n",
    "       \n",
    "            #Here, we are finding the count of first column\n",
    "            n_count = X_c.shape[0]\n",
    "            \n",
    "            #calculate the mean difference from mean overall and reshape the features\n",
    "            mean_diff = (mean_c - mean_overall).reshape(n_features, 1)\n",
    "            \n",
    "            #Take the mean difference dot product and multiple it with total number of rows.\n",
    "            #calculating between class scatter\n",
    "            S_Between += n_count * (mean_diff).dot(mean_diff.T)\n",
    "        \n",
    "\n",
    "        #calculate the dot product of within class scatter and between class scatter\n",
    "        #Calculating the eigenvalues and eigenvectors\n",
    "        eigenvalues, eigenvectors = np.linalg.eig(np.linalg.inv(S_Within).dot(S_Between))\n",
    "        #print(\"The Eigenvalues:\\n\", eigenvalues)\n",
    "        #print(\"The Eigenvectors:\\n\", eigenvectors)\n",
    "        \n",
    "        #transpose the eigenvectors\n",
    "        eigenvectors = eigenvectors.T\n",
    "        \n",
    "        #Sort the eigenvalues and eigenvectors\n",
    "        #getting absolute eigenvalues and sort by decreasing order\n",
    "        indxs = np.argsort(abs(eigenvalues))[::-1]\n",
    "       \n",
    "        #Now get the eigenvalues and eigenvectors from the variable indices\n",
    "        eigenvalues = eigenvalues[indxs]\n",
    "        eigenvectors = eigenvectors[indxs]\n",
    "        \n",
    "        #Store the first eigenvectors with highest value into the linear discriminant created above and set the dimension\n",
    "        self.linear_discriminants = eigenvectors[0:self.n_components]\n",
    "        print(\"The matrix W:\\n\",self.linear_discriminants.T)\n",
    "        \n",
    "    #This method  transform the data and returns the scores   \n",
    "    def transform(self,variables):\n",
    "        \n",
    "        #return np.matmul(variables,self.linear_discriminants.T)\n",
    "        return np.dot(variables, self.linear_discriminants.T)"
   ]
  },
  {
   "cell_type": "code",
   "execution_count": 4,
   "metadata": {
    "scrolled": false
   },
   "outputs": [
    {
     "name": "stdout",
     "output_type": "stream",
     "text": [
      "The matrix W:\n",
      " [[-0.28543316]\n",
      " [-0.2165812 ]\n",
      " [ 0.65799713]\n",
      " [ 0.66231433]]\n"
     ]
    },
    {
     "name": "stderr",
     "output_type": "stream",
     "text": [
      "C:\\Users\\mayur\\Anaconda3\\lib\\site-packages\\ipykernel_launcher.py:29: UserWarning: Matplotlib is currently using module://ipykernel.pylab.backend_inline, which is a non-GUI backend, so cannot show the figure.\n"
     ]
    },
    {
     "data": {
      "image/png": "[encoded data removed]",
      "text/plain": [
       "<Figure size 432x288 with 1 Axes>"
      ]
     },
     "metadata": {
      "needs_background": "light"
     },
     "output_type": "display_data"
    }
   ],
   "source": [
    "#calling the class of LDA\n",
    "#passing the number of components as 1 for one dimension\n",
    "lda = LDA_analysis(1)\n",
    "\n",
    "#calling the methods from the class and passing the parameters\n",
    "#using setosa and virginica data\n",
    "lda.fit(setosa_virginica,setosa_virginica_targets)\n",
    "\n",
    "#This return the scores to plot\n",
    "iris_projected = lda.transform(setosa_virginica)\n",
    "iris_projected = -iris_projected\n",
    "\n",
    "\n",
    "# preparing a list for color, marker and label\n",
    "target_names = ['Setosa', 'Virginica']\n",
    "colors = ['blue','green']\n",
    "markers = ['s','o']\n",
    "\n",
    "#Plot a scatter plot using the scores generated above \n",
    "#The plot from this shows different color for each label/target\n",
    "fig, ax = plt.subplots() \n",
    "for c, i, g, m in zip(colors,[0,2], target_names,markers):\n",
    "    ax.scatter(iris_projected[setosa_virginica_targets==i,0], np.zeros([50]), marker= m ,alpha=0.5, color= c, label = g)\n",
    "ax.legend(loc='best')\n",
    "ax.grid(True)\n",
    "ax.set_xlabel('LD1')\n",
    "ax.set_ylabel('LD2')\n",
    "ax.set_title(\"LDA for Iris dataset-> Setosa-Virginica\")\n",
    "fig.show()"
   ]
  },
  {
   "cell_type": "markdown",
   "metadata": {},
   "source": [
    "- Comparing the results with LDA in sklearn:"
   ]
  },
  {
   "cell_type": "code",
   "execution_count": 5,
   "metadata": {},
   "outputs": [
    {
     "name": "stderr",
     "output_type": "stream",
     "text": [
      "C:\\Users\\mayur\\Anaconda3\\lib\\site-packages\\ipykernel_launcher.py:25: UserWarning: Matplotlib is currently using module://ipykernel.pylab.backend_inline, which is a non-GUI backend, so cannot show the figure.\n"
     ]
    },
    {
     "data": {
      "image/png": "[encoded data removed]",
      "text/plain": [
       "<Figure size 432x288 with 1 Axes>"
      ]
     },
     "metadata": {
      "needs_background": "light"
     },
     "output_type": "display_data"
    }
   ],
   "source": [
    "#Use the LDA imported from sklearn\n",
    "sklearn_lda = LDA()\n",
    "\n",
    "#dimensional reduction occur here by passing the parameter from the iris data\n",
    "#using setosa and Virginica\n",
    "iris_lda_sklearn = sklearn_lda.fit_transform(setosa_virginica,setosa_virginica_targets)\n",
    "iris_lda_sklearn = -iris_lda_sklearn\n",
    "\n",
    "\n",
    "# preparing a list for color, marker and label\n",
    "target_names = ['Setosa', 'Virginica']\n",
    "colors = ['blue','green']\n",
    "markers = ['s','o']\n",
    "\n",
    "#Plot a scatter plot using the scores generated above \n",
    "#The plot from this shows different color for each label     \n",
    "fig, ax = plt.subplots() \n",
    "for c, i, g, m in zip(colors,[0,2], target_names,markers):\n",
    "    ax.scatter(iris_lda_sklearn[setosa_virginica_targets==i,0], np.zeros([50]), marker= m ,alpha=0.5, color= c, label = g)\n",
    "ax.legend(loc='best')\n",
    "ax.grid(True)\n",
    "ax.set_xlabel('LD1')\n",
    "ax.set_ylabel('LD2')\n",
    "ax.set_title(\"Sklearn LDA for Iris dataset-> Setosa-Virginica\")\n",
    "fig.show()"
   ]
  },
  {
   "cell_type": "markdown",
   "metadata": {},
   "source": [
    "# 2. PCA and LDA (60 points)"
   ]
  },
  {
   "cell_type": "markdown",
   "metadata": {},
   "source": [
    "In dataset dataset 1.csv, columns correspond to variables and there are two variables named V1 and V2."
   ]
  },
  {
   "cell_type": "markdown",
   "metadata": {},
   "source": [
    "- Reading the CSV file and manipulating the data:"
   ]
  },
  {
   "cell_type": "code",
   "execution_count": 6,
   "metadata": {},
   "outputs": [],
   "source": [
    "#Read the csv file to run the LDA class.\n",
    "assg3_dataset= pd.read_csv('C:/Users/mayur/Documents/UNCC/Machine_learning/dataset_1.csv')\n",
    "\n",
    "#Manipulating the data\n",
    "#storing the features into one variable\n",
    "data_variable = assg3_dataset[['V1','V2']]\n",
    "#Converting the above variable data to numpy array\n",
    "V_variables = data_variable.to_numpy()\n",
    "#Building label/target based on number of rows\n",
    "label_data = np.concatenate((np.ones(30), np.zeros(30)))\n"
   ]
  },
  {
   "cell_type": "markdown",
   "metadata": {},
   "source": [
    "part1: Plot V2 vs V1."
   ]
  },
  {
   "cell_type": "code",
   "execution_count": 7,
   "metadata": {},
   "outputs": [
    {
     "data": {
      "text/plain": [
       "Text(0.5, 1.0, 'Plot V2 vs V1')"
      ]
     },
     "execution_count": 7,
     "metadata": {},
     "output_type": "execute_result"
    },
    {
     "data": {
      "image/png": "[encoded data removed]",
      "text/plain": [
       "<Figure size 432x288 with 1 Axes>"
      ]
     },
     "metadata": {
      "needs_background": "light"
     },
     "output_type": "display_data"
    }
   ],
   "source": [
    "#Generating a scatter plot for V2 vs V1\n",
    "plt.scatter(assg3_dataset.iloc[:,0],assg3_dataset.iloc[:,1], color = \"yellow\",marker=\"X\")\n",
    "plt.xlabel('V1')\n",
    "plt.ylabel('V2')\n",
    "plt.title(\"Plot V2 vs V1\")"
   ]
  },
  {
   "cell_type": "markdown",
   "metadata": {},
   "source": [
    "Yes, there is clear separation of the raw data from the above plot."
   ]
  },
  {
   "cell_type": "markdown",
   "metadata": {},
   "source": [
    "Part2&3: Apply your own PCA class to this dataset without scaling the two variables.Project the raw data onto your first principal component axis, i.e. the PC1 axis.\n",
    "-Add the PC1 axis to the plot you obtained in (1)."
   ]
  },
  {
   "cell_type": "code",
   "execution_count": 8,
   "metadata": {},
   "outputs": [],
   "source": [
    "#Parent class is defined as d_pCA.\n",
    "class d_PCA:    \n",
    "    \n",
    "    #constructor which takes number of components.\n",
    "    def __init__(self, num_of_components):        \n",
    "        self.num_of_components = num_of_components  \n",
    "        \n",
    "    #A method/function is built within the class which takes in dataset X, correlation logic as boolean.\n",
    "    def fit_transform(self, x, corr_logic = False):   \n",
    "        \n",
    "        #calculating the mean centering\n",
    "        column_mean = x.mean(axis=0) \n",
    "        #stack the data\n",
    "        column_mean_stacked = np.tile(column_mean, reps=(x.shape[0], 1)) \n",
    "        #substract the each individual mean value to the dataset mean value\n",
    "        x_mean_centered = x - column_mean_stacked   \n",
    "        \n",
    "        # use mean_centered data or standardized mean_centered data        \n",
    "        if not corr_logic:            \n",
    "            data_for_pca = x_mean_centered        \n",
    "        else:   \n",
    "            #if there is correlation then calculate the standard deviation\n",
    "            column_sd = np.std(x, axis=0)            \n",
    "            column_sd_stacked = np.tile(column_sd, reps=(x.shape[0], 1))            \n",
    "            data_for_pca = x / column_sd_stacked\n",
    "             \n",
    "        # get covariance matrix of the data        \n",
    "        covariance_matrix = np.cov(data_for_pca, rowvar=False)    \n",
    "            \n",
    "        # eigendecomposition of the covariance matrix        \n",
    "        w, v = LA.eig(covariance_matrix)\n",
    "        \n",
    "        w = w.real        \n",
    "        v = v.real  \n",
    "            \n",
    "        # sort eigenvalues in descending order        \n",
    "        II = w.argsort()[::-1]        \n",
    "        all_eigenvalues = w[II]        \n",
    "        all_eigenvectors = v[:, II]    \n",
    "            \n",
    "        # get percent variance        \n",
    "        percent_variance_explained = all_eigenvalues / sum(all_eigenvalues) * 100  \n",
    "        print(\"The percent Variance from PCA:\", percent_variance_explained)\n",
    "        \n",
    "        # get scores        \n",
    "        pca_scores = np.matmul(data_for_pca, all_eigenvectors)  \n",
    "         \n",
    "        # collect PCA results        \n",
    "        pca_results = {'data': x,\n",
    "                       'mean_centered_data': x_mean_centered,\n",
    "                       'percent_variance_explained': percent_variance_explained,\n",
    "                       'loadings': all_eigenvectors,\n",
    "                       'scores': pca_scores, 'data_after_pretreatment': data_for_pca}  \n",
    "    \n",
    "        \n",
    "        # scores plot \n",
    "        fig, ax = plt.subplots()            \n",
    "        ax.scatter(pca_results['scores'].iloc[:,0], pca_results['scores'].iloc[:,1], color='red')            \n",
    "        ax.set_title('scores plot')            \n",
    "        ax.set_xlabel('PC1')            \n",
    "        ax.set_ylabel('PC2')            \n",
    "        fig.show()\n",
    "        \n",
    "        # projection of raw data onto PC1:\n",
    "        fig, ax = plt.subplots()            \n",
    "        ax.scatter(pca_results['data'].iloc[:,0], pca_results['data'].iloc[:,1], color='green')                      \n",
    "        ax.plot([0, 40*pca_results['loadings'][0, 0]], [0, 40*pca_results['loadings'][1, 0]],color='blue', linewidth=3) \n",
    "        ax.legend(['PC1 axis','Raw data'])\n",
    "        ax.set_title('raw data on PC1 axis')            \n",
    "        ax.set_aspect('equal', 'box')            \n",
    "        ax.set_xlabel('V1')            \n",
    "        ax.set_ylabel('V2')            \n",
    "        fig.show()\n",
    "        \n",
    "        \n",
    "        #Add pc1 axis to V2 vs V1 plot in part1\n",
    "        fig, ax = plt.subplots()   \n",
    "        plt.scatter(x.iloc[:,0],x.iloc[:,1], color = \"purple\")\n",
    "        ax.plot([0, 50*pca_results['loadings'][0, 0]], [0, 50*pca_results['loadings'][1, 0]],color='yellow', linewidth=3)  \n",
    "        ax.legend(['PC1 axis','Raw data'])\n",
    "        ax.set_title('PC1 axis added to plot V2 vs V1')            \n",
    "        ax.set_aspect('equal', 'box')            \n",
    "        ax.set_xlabel('V1')            \n",
    "        ax.set_ylabel('V2')            \n",
    "        fig.show()\n",
    "        \n",
    "        return pca_results"
   ]
  },
  {
   "cell_type": "code",
   "execution_count": 9,
   "metadata": {},
   "outputs": [
    {
     "name": "stdout",
     "output_type": "stream",
     "text": [
      "The percent Variance from PCA: [9.67725518e+01 3.21285950e+00 1.45886865e-02]\n"
     ]
    },
    {
     "name": "stderr",
     "output_type": "stream",
     "text": [
      "C:\\Users\\mayur\\Anaconda3\\lib\\site-packages\\ipykernel_launcher.py:62: UserWarning: Matplotlib is currently using module://ipykernel.pylab.backend_inline, which is a non-GUI backend, so cannot show the figure.\n",
      "C:\\Users\\mayur\\Anaconda3\\lib\\site-packages\\ipykernel_launcher.py:73: UserWarning: Matplotlib is currently using module://ipykernel.pylab.backend_inline, which is a non-GUI backend, so cannot show the figure.\n",
      "C:\\Users\\mayur\\Anaconda3\\lib\\site-packages\\ipykernel_launcher.py:85: UserWarning: Matplotlib is currently using module://ipykernel.pylab.backend_inline, which is a non-GUI backend, so cannot show the figure.\n"
     ]
    },
    {
     "data": {
      "image/png": "[encoded data removed]",
      "text/plain": [
       "<Figure size 432x288 with 1 Axes>"
      ]
     },
     "metadata": {
      "needs_background": "light"
     },
     "output_type": "display_data"
    },
    {
     "data": {
      "image/png": "[encoded data removed]",
      "text/plain": [
       "<Figure size 432x288 with 1 Axes>"
      ]
     },
     "metadata": {
      "needs_background": "light"
     },
     "output_type": "display_data"
    },
    {
     "data": {
      "image/png": "[encoded data removed]",
      "text/plain": [
       "<Figure size 432x288 with 1 Axes>"
      ]
     },
     "metadata": {
      "needs_background": "light"
     },
     "output_type": "display_data"
    }
   ],
   "source": [
    "#instantiate of the parent class d_PCA.\n",
    "data1 = d_PCA(1)\n",
    "# access the instance attributes\n",
    "pca_results = data1.fit_transform(assg3_dataset)\n"
   ]
  },
  {
   "cell_type": "markdown",
   "metadata": {},
   "source": [
    "Part4: Apply your own LDA class to this dataset and obtain W. The class information of each data point is in the label column.\n",
    "\n"
   ]
  },
  {
   "cell_type": "code",
   "execution_count": 10,
   "metadata": {},
   "outputs": [],
   "source": [
    "#building a class for two-class LDA:\n",
    "class LDA_analysis:\n",
    "    \n",
    "    #constructor which takes number of components.\n",
    "    def __init__(self,n_components):\n",
    "        \n",
    "        self.n_components = n_components\n",
    "        \n",
    "        #In this variable, we store eigenvectors\n",
    "        self.linear_discriminants = None\n",
    "        \n",
    "    \n",
    "    #A method/function is built within the class which takes in dataset variables and labels\n",
    "    def fit(self,variables, labels):\n",
    "        \n",
    "        #taking the number of features from the variables\n",
    "        n_features = np.shape(variables)[1] # 150, 4 -> 4\n",
    "        #This is to show the unique labels \n",
    "        class_labels = np.unique(labels) # [0,1,2]\n",
    "        \n",
    "        #Working on scatter matrix within and between\n",
    "        #calculating the mean for all the columns\n",
    "        mean_overall = np.mean(variables, axis=0)\n",
    "        \n",
    "        S_Within = np.zeros((n_features,n_features)) # 4 X 4\n",
    "        S_Between = np.zeros((n_features,n_features)) # 4 X 4  for iris data\n",
    "        \n",
    "        #for loop the class labels\n",
    "        for c in class_labels:\n",
    "            X_c = variables[labels==c]\n",
    "            #Calculate the mean of X_c\n",
    "            mean_c = np.mean(X_c, axis = 0)\n",
    "            ##substract the each individual mean value to the dataset mean value and do a dot product \n",
    "            #to calculate scatter matrix within\n",
    "            S_Within += (X_c - mean_c).T.dot(X_c - mean_c)\n",
    "       \n",
    "            #Here, we are find the count of first column\n",
    "            n_count = X_c.shape[0]\n",
    "            #calculate the mean difference from mean overall and reshape the features\n",
    "            mean_diff = (mean_c - mean_overall).reshape(n_features, 1)\n",
    "            #Take the mean difference dot product and multiple it with total number of rows.\n",
    "            S_Between += n_count * (mean_diff).dot(mean_diff.T)\n",
    "        \n",
    "        #calculate the dot product of Scatter matrix within and between\n",
    "        A = np.linalg.inv(S_Within).dot(S_Between)\n",
    "        \n",
    "        #Calculate the eigenvalues and eigenvectors\n",
    "        eigenvalues, eigenvectors = np.linalg.eig(A)\n",
    "        #transpose the eigenvectors\n",
    "        eigenvectors = eigenvectors.T\n",
    "        \n",
    "        #Sort the eigenvalues and eigenvectors\n",
    "        #getting absolute eigenvalues and sort by decreasing order\n",
    "        indxs = np.argsort(abs(eigenvalues))[::-1]\n",
    "        \n",
    "        #Now get the eigenvalues and eigenvectors from the variable indices\n",
    "        eigenvalues = eigenvalues[indxs]\n",
    "        eigenvectors = eigenvectors[indxs]\n",
    "        print(\"The Eigenvalues:\\n\", eigenvalues)\n",
    "        print(\"The Eigenvectors:\\n\", eigenvectors)\n",
    "        \n",
    "        percent_variance_explained = eigenvalues / sum(eigenvalues) * 100 \n",
    "        print(\"The percent Variance from LDA:\", percent_variance_explained)\n",
    "        \n",
    "        #Store the first eigenvectors with highest value into the linear discriminant created above and set to two dimensional\n",
    "        #calculated W\n",
    "        self.linear_discriminants = eigenvectors[0:self.n_components]\n",
    "        print(\"The matrix W:\\n\",self.linear_discriminants.T)\n",
    "        print(\"Variance of W:\\n\",np.var(self.linear_discriminants.T))\n",
    "        \n",
    "        \n",
    "        return self.linear_discriminants\n",
    "        \n",
    "    #This method  transform the data and returns the scores   \n",
    "    def transform(self,variables):\n",
    "        \n",
    "        #return np.matmul(variables,self.linear_discriminants.T)\n",
    "        return np.dot(variables, self.linear_discriminants.T)\n",
    "         \n",
    "    "
   ]
  },
  {
   "cell_type": "code",
   "execution_count": 11,
   "metadata": {
    "scrolled": true
   },
   "outputs": [
    {
     "name": "stdout",
     "output_type": "stream",
     "text": [
      "The Eigenvalues:\n",
      " [9.03723973 0.        ]\n",
      "The Eigenvectors:\n",
      " [[-0.71381103  0.70033836]\n",
      " [ 1.          0.        ]]\n",
      "The percent Variance from LDA: [100.   0.]\n",
      "The matrix W:\n",
      " [[-0.71381103]\n",
      " [ 0.70033836]]\n",
      "Variance of W:\n",
      " 0.49995462182541744\n"
     ]
    }
   ],
   "source": [
    "#calling the class of LDA\n",
    "#passing the number of components\n",
    "lda = LDA_analysis(1)\n",
    "\n",
    "#calling the methods from the class and passing the parameters\n",
    "data_W = lda.fit(V_variables,label_data)\n",
    "\n",
    "#This return the scores to plot\n",
    "data_projected = lda.transform(V_variables)\n",
    "data_projected = -data_projected\n"
   ]
  },
  {
   "cell_type": "markdown",
   "metadata": {},
   "source": [
    "Part5: Project your raw data onto W. Do you see a clear separation of the data in the projection onto W?"
   ]
  },
  {
   "cell_type": "code",
   "execution_count": 12,
   "metadata": {
    "scrolled": false
   },
   "outputs": [
    {
     "name": "stdout",
     "output_type": "stream",
     "text": [
      "Variance of Normalized W:\n",
      " 0.49995462182541744\n"
     ]
    },
    {
     "name": "stderr",
     "output_type": "stream",
     "text": [
      "C:\\Users\\mayur\\Anaconda3\\lib\\site-packages\\ipykernel_launcher.py:18: UserWarning: Matplotlib is currently using module://ipykernel.pylab.backend_inline, which is a non-GUI backend, so cannot show the figure.\n"
     ]
    },
    {
     "data": {
      "image/png": "[encoded data removed]",
      "text/plain": [
       "<Figure size 432x288 with 1 Axes>"
      ]
     },
     "metadata": {
      "needs_background": "light"
     },
     "output_type": "display_data"
    }
   ],
   "source": [
    "#returned W matrix is normalized using inbuilt function\n",
    "normalize_data = LA.norm(data_W)\n",
    "#Divide W with normalized data\n",
    "new_W = data_W/normalize_data\n",
    "\n",
    "print(\"Variance of Normalized W:\\n\",np.var(new_W))\n",
    "\n",
    "#Plot the raw data onto W.\n",
    "fig, ax = plt.subplots()   \n",
    "ax.scatter(V_variables[:,0],V_variables[:,1], color = \"green\",marker='s') #the raw data points\n",
    "project_points = np.dot(V_variables,new_W.T)*new_W/np.dot(new_W,new_W.T) # calculating the projection points\n",
    "ax.scatter(project_points[:,0],project_points[:,1],cmap=plt.cm.get_cmap('Paired_r',2)) # projecting the points\n",
    "ax.legend(['Raw data','W projection'])\n",
    "ax.set_title('Projection of raw data onto W')            \n",
    "ax.set_aspect('equal', 'box')            \n",
    "ax.set_xlabel('V1')            \n",
    "ax.set_ylabel('V2')            \n",
    "fig.show()"
   ]
  },
  {
   "cell_type": "markdown",
   "metadata": {},
   "source": [
    "Part6: Add the W axis to your plot. At this point, your plot should contain the raw data points, the PC1 axis you obtain from the PCA analysis, and the W axis you obtain from the LDA analysis."
   ]
  },
  {
   "cell_type": "code",
   "execution_count": 13,
   "metadata": {},
   "outputs": [
    {
     "name": "stderr",
     "output_type": "stream",
     "text": [
      "C:\\Users\\mayur\\Anaconda3\\lib\\site-packages\\ipykernel_launcher.py:11: UserWarning: Matplotlib is currently using module://ipykernel.pylab.backend_inline, which is a non-GUI backend, so cannot show the figure.\n",
      "  # This is added back by InteractiveShellApp.init_path()\n"
     ]
    },
    {
     "data": {
      "image/png": "[encoded data removed]",
      "text/plain": [
       "<Figure size 432x288 with 1 Axes>"
      ]
     },
     "metadata": {
      "needs_background": "light"
     },
     "output_type": "display_data"
    }
   ],
   "source": [
    "#Plot the raw data onto W with PC1 axis\n",
    "fig, ax = plt.subplots()   \n",
    "ax.scatter(V_variables[:,0],V_variables[:,1], color = \"green\")#the raw data points\n",
    "ax.scatter(project_points[:,0],project_points[:,1],cmap=plt.cm.get_cmap('Paired_r',2))# projecting the points\n",
    "ax.plot([0, 50*pca_results['loadings'][0, 0]], [0, 50*pca_results['loadings'][1, 0]],color='brown', linewidth=3)# adding PC1 axis \n",
    "ax.legend(['PC1 axis','Raw data','W projection'])\n",
    "ax.set_title('Projection of raw data with W and PC1 axis')            \n",
    "ax.set_aspect('equal', 'box')            \n",
    "ax.set_xlabel('V1')            \n",
    "ax.set_ylabel('V2')            \n",
    "fig.show()"
   ]
  },
  {
   "cell_type": "markdown",
   "metadata": {},
   "source": [
    "part7:Compute the variance of the projections onto the W axis."
   ]
  },
  {
   "cell_type": "markdown",
   "metadata": {},
   "source": [
    "- The Variance of W is calculated in the above code and the value of it is 0.4999"
   ]
  },
  {
   "cell_type": "markdown",
   "metadata": {},
   "source": [
    "Part8:What message can you get from the above PCA and LDA analyses?"
   ]
  },
  {
   "cell_type": "markdown",
   "metadata": {},
   "source": [
    "- The message we get from PCA and LDA are the percent variance is better in LDA(100%) over that of PCA(96%). Also, the classification of features is better in case of LDA than that of PCA."
   ]
  }
 ],
 "metadata": {
  "kernelspec": {
   "display_name": "Python 3",
   "language": "python",
   "name": "python3"
  },
  "language_info": {
   "codemirror_mode": {
    "name": "ipython",
    "version": 3
   },
   "file_extension": ".py",
   "mimetype": "text/x-python",
   "name": "python",
   "nbconvert_exporter": "python",
   "pygments_lexer": "ipython3",
   "version": "3.7.3"
  }
 },
 "nbformat": 4,
 "nbformat_minor": 2
}
